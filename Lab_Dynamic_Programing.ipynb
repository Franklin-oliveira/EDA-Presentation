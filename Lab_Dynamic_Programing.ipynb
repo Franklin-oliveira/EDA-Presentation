{
 "cells": [
  {
   "cell_type": "markdown",
   "metadata": {},
   "source": [
    "# Olá! Seja bem-vindo(a).\n",
    "\n",
    "Nesse notebook, vamos explorar um pouco mais sobre os algoritmos de `Bellman-Ford` e `Floyd-Warshall`.\n",
    "\n",
    "Antes de começar a diversão, vamos relembrar algumas coisas...\n",
    "\n",
    "## Dynamic Programming\n",
    "\n",
    "É um paradigma associado à solução de problemas (otimização). \n",
    "\n",
    "<img src=\"img/dynamic_programming.jpeg\" alt=\"drawing\" width=\"500\"/>\n",
    "\n",
    "A principal ideia por trás desse conceito, no campo de Algoritmos, é economizar tempo computacional armazenando resultados intermediários. Esse paradigma é aplicado a problemas que têm as seguintes características: \n",
    "\n",
    "> - **Subestrutura ótima:** a solução ótima pode ser obtida recursivamente a partir da solução ótima de problemas menores.                                                                                  <br>\n",
    "> - **Problemas sobrepostos:** há, de fato, ganho em tempo computacional em se armazenar as soluções ótimas dos sub-problemas.                                                                           <br>\n",
    "\n",
    "Na prática, essa estratégia de otimização segue os seguintes passos: \n",
    "\n",
    "> 1. Estruturar o problema (identificar características).\n",
    "> 2. Caracterizar a estrutura da solução ótima (em função das soluções dos sub-problemas).\n",
    "> 3. Calcular, recursivamente, a solução ótima dos sub-problemas (Top-Down ou Bottom-Up).\n",
    "> 4. Construir a solução ótima a partir das informações computadas.\n",
    "\n",
    "\n",
    "Um problema que, naturalmente, atende todos esses pontos é **encontrar o n-ésimo termo da sequência de Fibonacci**. Vamos relembrar rapidamente como aplicar programação dinâmica a esse problema. \n",
    "\n",
    "<img src=\"img/fibonacci_memoization.png\" alt=\"drawing\" width=\"400\"/>\n",
    "\n",
    "\n",
    "Nesse exemplo, é fácil visualizar o conceito de *memoization*. A principal ideia é armazenar as soluções ótimas dos sub-problemas em uma lista e, à medida em que for preciso, acessar esses resultados em tempo constante.\n",
    "\n",
    "Vamos aplicar esses conceitos implementando os algoritmos `Bellman-Ford` e `Floyd-Marshall`.\n",
    "\n",
    "<br>\n",
    "\n",
    "-----\n",
    "\n",
    "A ideia por trás desse laboratório é aplicar os conhecimentos transmitidos durante a apresentação (e aprender enquanto nos divertimos programando-os!). \n",
    "\n",
    "Preparados? Então vamos lá.\n",
    "\n",
    "<img src=\"img/fun.jpg\" alt=\"drawing\" width=\"100\"/>\n",
    "\n",
    "Vamos começar com um import daqueles..."
   ]
  },
  {
   "cell_type": "code",
   "execution_count": 1,
   "metadata": {},
   "outputs": [],
   "source": [
    "import numpy as np"
   ]
  },
  {
   "cell_type": "markdown",
   "metadata": {},
   "source": [
    "## Bellman-Ford\n",
    "\n",
    "<img src=\"img/Shortest_path_with_direct_weights.svg\" alt=\"drawing\" width=\"300\"/>\n",
    "\n",
    "### Problema:\n",
    "\n",
    "> a) Dado um grafo e um nó fixo, encontre os menores caminhos do nó escolhido a todos os demais nós no grafo.                                                                                              <br>\n",
    "> b) O grafo pode conter arestas negativas.\n",
    "\n",
    "### Pseudo-código: \n",
    "\n",
    "> 1. Defina d[u] como uma estimativa da distância entre s e v. \n",
    "> 2. Relaxar a aresta (u,v), i.e., diminuir d[v] passando por u, para todos os vizinhos v de u.\n",
    "> 3. d[v] = min(d[v], d[u] + w(u,v))\n",
    "> 4. Utiliza sucessivamente relaxamento nas demais arestas do grafo.\n",
    "\n",
    "### Passo a passo: \n",
    "\n",
    "Agora é sua vez! Mas calma, vamos guiá-lo no passo a passo...\n",
    "\n",
    "Já criamos um grafo e o inicializamos para você!\n",
    "\n",
    "\n",
    "**Sua tarefa é a seguinte:**\n",
    "\n",
    "1. Implementar uma função chamada *relax* que toma como argumento um nó, seu vizinho, o grafo, um dicionário de distâncias e um dicionário com os nós predecessores (calma. Sei que parece *overwhelming*, mas já fizemos um *sketch* da função para você.). Essa fução vai fazer o relaxamento de uma dada aresta (atualizar seu peso).                                                                               \n",
    "<br>\n",
    "\n",
    "2. Implementar uma função chamada *bellman_ford* que toma como argumentos um grafo e um vértice inicial (*source*), e retorna as menores distâncias do nó inicial para cada um dos outros nós no grafo.\n"
   ]
  },
  {
   "cell_type": "code",
   "execution_count": 2,
   "metadata": {},
   "outputs": [
    {
     "name": "stdout",
     "output_type": "stream",
     "text": [
      "Grafo Criado!\n",
      "\n",
      "\n",
      "{'a': {'b': 4, 'c': 2}, 'b': {'c': 5, 'd': 10}, 'c': {'e': 3}, 'd': {'f': 11}, 'e': {'d': 4}, 'f': {}}\n"
     ]
    }
   ],
   "source": [
    "# grafo= {nó1: {vizinho1: distancia1, vizinho2: distancia2} }  # direcionado: arestas saem do nó1 \n",
    "\n",
    "graph = {\n",
    "    'a': {'b': 4, 'c':  2},\n",
    "    'b': {'c': 5, 'd':  10},\n",
    "    'c': {'e': 3},\n",
    "    'd': {'f':  11},\n",
    "    'e': {'d': 4},\n",
    "    'f': {}\n",
    "    }\n",
    "\n",
    "print('Grafo Criado!')\n",
    "print('\\n')\n",
    "print(graph)"
   ]
  },
  {
   "cell_type": "code",
   "execution_count": 16,
   "metadata": {},
   "outputs": [],
   "source": [
    "# Inicializa o grafo\n",
    "# Para cada nó, preparamos o predecessor e o destino\n",
    "def initialize(graph, source):\n",
    "    d = {} # distâncias\n",
    "    p = {} # nós predecessores\n",
    "    for node in graph:\n",
    "        d[node] = float('Inf') # Nós não conectados estão muito distantes (dist. infinita)\n",
    "        p[node] = None\n",
    "    d[source] = 0 # Distância do nó inicial (fonte) é 0.\n",
    "    return d, p\n",
    "\n",
    "# Relaxamento (reclina a cadeira... rsrs)\n",
    "def relax(node, neighbour, graph, d, p):\n",
    "    # Se a distância entre o nó e o vizinho é menor que a que está armazenada\n",
    "    # você pode fazer um if ou aplicar direto seguinte statement:\n",
    "    # distance[j] = min(distance[j], distance[i] + weight(i, j))\n",
    "    # OBS: se optar pela segunda abordagem, não esqueça de atualizar o dicionadio de predecessores\n",
    "    # basta fazer: p[neighbour] = node\n",
    "    \n",
    "    ### Seu código aqui\n",
    "\n",
    "\n",
    "    ### Fim do seu código (OBS: não precisa retornar nada. Idealmente, essa função é inplace)\n",
    "        \n",
    "def bellman_ford(graph, source):\n",
    "    d, p = initialize(graph, source)  # inicializa o grafo \n",
    "    for i in range(len(graph)-1): # Para cada nó...\n",
    "        # lembre que o algoritmo atualiza os pesos em cada aresta n-1 vezes, \n",
    "        # onde n é o número de vértices\n",
    "        # dica: para cada nó e cada um de seus vizinhos, queremos relaxar(nó,vizinho, no grafo, d, p)\n",
    "\n",
    "        ### Seu código aqui   (Qualquer dúvida, chame os monitores - Franklin e Lucas)\n",
    "\n",
    "        \n",
    "        \n",
    "        ### Fim do seu código (não precisa alterar nada abaixo dessa linha)\n",
    "\n",
    "    # Checa se há ciclos negativos \n",
    "    for u in graph:\n",
    "        for v in graph[u]:\n",
    "            assert d[v] <= d[u] + graph[u][v]\n",
    "\n",
    "    return d, p"
   ]
  },
  {
   "cell_type": "markdown",
   "metadata": {},
   "source": [
    "Se tudo deu certo até aqui, o seguinte código deve compilar e mostrar as menores distâncias."
   ]
  },
  {
   "cell_type": "code",
   "execution_count": 28,
   "metadata": {},
   "outputs": [
    {
     "name": "stdout",
     "output_type": "stream",
     "text": [
      "Predecessores: {'a': None, 'b': 'a', 'c': 'a', 'd': 'e', 'e': 'c', 'f': 'd'}\n",
      "\n",
      "Distâncias (a partir do nó escolhido - source): {'a': 0, 'b': 4, 'c': 2, 'd': 9, 'e': 5, 'f': 20}\n"
     ]
    }
   ],
   "source": [
    "d, p = bellman_ford(graph, 'a')\n",
    "\n",
    "print 'Predecessores:', p\n",
    "print '\\nDistâncias (a partir do nó escolhido - source):', d "
   ]
  },
  {
   "cell_type": "markdown",
   "metadata": {},
   "source": [
    "<br>\n",
    "\n",
    "## Floyd-Warshall\n",
    "\n",
    "Lembre que, para implementar esse algoritmo, é mais conveniente escrever o grafo na forma de uma matriz de adjacência. \n",
    "\n",
    "<img src=\"img/adjacent_matrix.png\" alt=\"drawing\" width=\"550\"/>\n",
    "\n",
    "### Problema: \n",
    "\n",
    "Encontrar a menor distância entre TODOS os pares de nós presentes no grafo.\n",
    "\n",
    "\n",
    "### Pseudo-código:\n",
    "\n",
    "1. Seja $G(V,E)$ um grafo com pesos e sejam $u, v \\in V$. \n",
    "2. Para cada vértice, atribua um único valor entre $\\{1, … ,|V|\\}$. \n",
    "3. Para cada $k \\in \\{1, … ,|V|\\}$, defina $D_k[u,v]$ como o valor do menor caminho entre $u$ e $v$ que passa pelos vértices ${1,...,k-1}$. Defina $D_0[u,v]$ como o valor do caminho entre $u$ e $v$ composto por apenas uma aresta.\n",
    "4. Armazene uma matriz $D_k$, com os valores de $D_k[u,v]$, para todos os pares $(u,v) \\in V×V$.\n",
    "\n",
    "### Passo a passo:\n",
    "\n",
    "Chegou a tão esperada hora de implementar o algoritmo de `Floyd-Warshall`. \n",
    "\n",
    "Note que já fizemos alguns preparativos para você. Criamos um grafo e definimos alguns parâmetros iniciais... Agora é a sua vez. \n",
    "\n",
    "Sua tarefa é a seguinte:\n",
    "\n",
    "1. Definir uma função chamada floyd_warshall que recebe uma matriz de adjacências e retorna uma matriz de mesma dimensão, onde cada elemento reflete a menor distância do nó i para o nó j.\n",
    "\n",
    "2. Lembre que, quando o nó k é escolhido como source, as distâncias são atualizadas da seguinte forma:\n",
    "$$ D_k[u,v] = min\\{D_{k-1}[u,v], D_{k-1}[u,k] + D_{k-1}[k,v]\\} $$\n",
    "\n",
    "DICA: já fizemos o primeiro for para você! (cada nó é escolhido como pivô (source). Agora resta atualizar as distâncias..."
   ]
  },
  {
   "cell_type": "code",
   "execution_count": 107,
   "metadata": {},
   "outputs": [],
   "source": [
    "# definindo grafo (matriz de adjacências)\n",
    "graph = [    [0, 5, INF, 10, -2], \n",
    "             [INF, 0, 3, INF, 14], \n",
    "             [INF, INF, 0, 1, 2] , \n",
    "             [INF, INF, INF, 0, -1],\n",
    "             [INF, 2, 1, INF, 10]     ] \n",
    "\n",
    "# Número de vértices no Grafo\n",
    "V = 5 \n",
    "\n",
    "# representa Infinito\n",
    "INF  = float('Inf')"
   ]
  },
  {
   "cell_type": "code",
   "execution_count": 110,
   "metadata": {},
   "outputs": [],
   "source": [
    "def floyd_warshall(graph): \n",
    "  \n",
    "    dist = np.array(list(map(lambda i : list(map(lambda j : j , i)) , graph)))\n",
    "    print 'Matriz de adjacência: '\n",
    "    print dist \n",
    "\n",
    "    for k in range(V): \n",
    "        # escolhe todos os vértices como source, um por um \n",
    "        # descomente as duas linhas abaixo se quiser ver o passo a passo\n",
    "        print('\\n\\tSource: Nó',k)\n",
    "        print(dist)\n",
    "        \n",
    "        ### Seu código aqui      (Qualquer dúvida, chame os monitores - Franklin e Lucas)\n",
    "\n",
    "        \n",
    "        ### Fim do seu código (não precisa alterar nada abaixo dessa linha)\n",
    "    \n",
    "    # esses prints já estão com parênteses\n",
    "    print('\\n')\n",
    "    print('Resultado (matriz com menores distâncias):')\n",
    "    print(dist)"
   ]
  },
  {
   "cell_type": "markdown",
   "metadata": {},
   "source": [
    "Agora é a hora da verdade..."
   ]
  },
  {
   "cell_type": "code",
   "execution_count": 111,
   "metadata": {},
   "outputs": [
    {
     "name": "stdout",
     "output_type": "stream",
     "text": [
      "Matriz de adjacência: \n",
      "[[ 0.  5. inf 10. -2.]\n",
      " [inf  0.  3. inf 14.]\n",
      " [inf inf  0.  1.  2.]\n",
      " [inf inf inf  0. -1.]\n",
      " [inf  2.  1. inf 10.]]\n",
      "\n",
      "\tSource: Nó 0\n",
      "[[ 0.  5. inf 10. -2.]\n",
      " [inf  0.  3. inf 14.]\n",
      " [inf inf  0.  1.  2.]\n",
      " [inf inf inf  0. -1.]\n",
      " [inf  2.  1. inf 10.]]\n",
      "\n",
      "\tSource: Nó 1\n",
      "[[ 0.  5. inf 10. -2.]\n",
      " [inf  0.  3. inf 14.]\n",
      " [inf inf  0.  1.  2.]\n",
      " [inf inf inf  0. -1.]\n",
      " [inf  2.  1. inf 10.]]\n",
      "\n",
      "\tSource: Nó 2\n",
      "[[ 0.  5.  8. 10. -2.]\n",
      " [inf  0.  3. inf 14.]\n",
      " [inf inf  0.  1.  2.]\n",
      " [inf inf inf  0. -1.]\n",
      " [inf  2.  1. inf 10.]]\n",
      "\n",
      "\tSource: Nó 3\n",
      "[[ 0.  5.  8.  9. -2.]\n",
      " [inf  0.  3.  4.  5.]\n",
      " [inf inf  0.  1.  2.]\n",
      " [inf inf inf  0. -1.]\n",
      " [inf  2.  1.  2.  3.]]\n",
      "\n",
      "\tSource: Nó 4\n",
      "[[ 0.  5.  8.  9. -2.]\n",
      " [inf  0.  3.  4.  3.]\n",
      " [inf inf  0.  1.  0.]\n",
      " [inf inf inf  0. -1.]\n",
      " [inf  2.  1.  2.  1.]]\n",
      "\n",
      "\n",
      "Resultado (matriz com menores distâncias):\n",
      "[[ 0.  0. -1.  0. -2.]\n",
      " [inf  0.  3.  4.  3.]\n",
      " [inf  2.  0.  1.  0.]\n",
      " [inf  1.  0.  0. -1.]\n",
      " [inf  2.  1.  2.  1.]]\n"
     ]
    }
   ],
   "source": [
    "floyd_warshall(graph) "
   ]
  },
  {
   "cell_type": "markdown",
   "metadata": {},
   "source": [
    "## Fim! Espero que vocês tenham gostado."
   ]
  }
 ],
 "metadata": {
  "kernelspec": {
   "display_name": "Python 3",
   "language": "python",
   "name": "python3"
  },
  "language_info": {
   "codemirror_mode": {
    "name": "ipython",
    "version": 3
   },
   "file_extension": ".py",
   "mimetype": "text/x-python",
   "name": "python",
   "nbconvert_exporter": "python",
   "pygments_lexer": "ipython3",
   "version": "3.7.3"
  }
 },
 "nbformat": 4,
 "nbformat_minor": 2
}
